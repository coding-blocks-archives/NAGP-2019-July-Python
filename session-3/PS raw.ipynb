{
 "cells": [
  {
   "cell_type": "code",
   "execution_count": null,
   "metadata": {},
   "outputs": [],
   "source": [
    "! python3 -m pip install selenium"
   ]
  },
  {
   "cell_type": "code",
   "execution_count": 1,
   "metadata": {},
   "outputs": [],
   "source": [
    "from selenium import webdriver\n",
    "import time"
   ]
  },
  {
   "cell_type": "code",
   "execution_count": 2,
   "metadata": {},
   "outputs": [],
   "source": [
    "browser = webdriver.Chrome(\"/Users/anuj/Desktop/office/NAGP-2019-July-Python/session-3/chromedriver\")"
   ]
  },
  {
   "cell_type": "code",
   "execution_count": 5,
   "metadata": {},
   "outputs": [],
   "source": [
    "browser.get(\"https://app.pluralsight.com/id\")"
   ]
  },
  {
   "cell_type": "code",
   "execution_count": 6,
   "metadata": {},
   "outputs": [],
   "source": [
    "username.send_keys(\"your-username\")\n",
    "password.send_keys(\"your-pass\")\n",
    "\n",
    "login = browser.find_element_by_id(\"login\")"
   ]
  },
  {
   "cell_type": "code",
   "execution_count": 7,
   "metadata": {},
   "outputs": [],
   "source": [
    "username.send_keys(\"anujgargcse@gmail.com\")\n",
    "password.send_keys(\"Code4Cause\")\n",
    "\n",
    "login.click()\n",
    "\n"
   ]
  },
  {
   "cell_type": "code",
   "execution_count": 73,
   "metadata": {},
   "outputs": [],
   "source": [
    "course = r\"\\\\n\""
   ]
  },
  {
   "cell_type": "code",
   "execution_count": 74,
   "metadata": {},
   "outputs": [
    {
     "name": "stdout",
     "output_type": "stream",
     "text": [
      "\\\\n\n"
     ]
    }
   ],
   "source": [
    "print(course)"
   ]
  },
  {
   "cell_type": "code",
   "execution_count": 8,
   "metadata": {},
   "outputs": [],
   "source": [
    "course_url = r\"https://app.pluralsight.com/player?course=amazon-echo-developing-alexa-skills&author=walter-quesada&name=amazon-echo-developing-alexa-skills-m1&clip=8&mode=live\""
   ]
  },
  {
   "cell_type": "code",
   "execution_count": 9,
   "metadata": {},
   "outputs": [],
   "source": [
    "browser.get(course_url)\n",
    "time.sleep(4)\n",
    "modules = browser.find_elements_by_class_name(\"module\")"
   ]
  },
  {
   "cell_type": "code",
   "execution_count": 15,
   "metadata": {},
   "outputs": [],
   "source": []
  },
  {
   "cell_type": "code",
   "execution_count": 10,
   "metadata": {},
   "outputs": [
    {
     "data": {
      "text/plain": [
       "[<selenium.webdriver.remote.webelement.WebElement (session=\"52f683a6ae58336c6e1aee89fe29cee4\", element=\"0.2642637569147688-1\")>,\n",
       " <selenium.webdriver.remote.webelement.WebElement (session=\"52f683a6ae58336c6e1aee89fe29cee4\", element=\"0.2642637569147688-2\")>,\n",
       " <selenium.webdriver.remote.webelement.WebElement (session=\"52f683a6ae58336c6e1aee89fe29cee4\", element=\"0.2642637569147688-3\")>,\n",
       " <selenium.webdriver.remote.webelement.WebElement (session=\"52f683a6ae58336c6e1aee89fe29cee4\", element=\"0.2642637569147688-4\")>]"
      ]
     },
     "execution_count": 10,
     "metadata": {},
     "output_type": "execute_result"
    }
   ],
   "source": [
    "modules"
   ]
  },
  {
   "cell_type": "code",
   "execution_count": 11,
   "metadata": {},
   "outputs": [],
   "source": [
    "module = modules[1]"
   ]
  },
  {
   "cell_type": "code",
   "execution_count": 12,
   "metadata": {},
   "outputs": [
    {
     "data": {
      "text/plain": [
       "'Starting Your First Alexa Skill'"
      ]
     },
     "execution_count": 12,
     "metadata": {},
     "output_type": "execute_result"
    }
   ],
   "source": [
    "module.find_element_by_tag_name(\"h2\").text"
   ]
  },
  {
   "cell_type": "code",
   "execution_count": 13,
   "metadata": {},
   "outputs": [],
   "source": [
    "lectures_list = module.find_element_by_tag_name(\"ul\")"
   ]
  },
  {
   "cell_type": "code",
   "execution_count": 14,
   "metadata": {},
   "outputs": [],
   "source": [
    "lectures = lectures_list.find_elements_by_tag_name(\"li\")"
   ]
  },
  {
   "cell_type": "code",
   "execution_count": 16,
   "metadata": {},
   "outputs": [],
   "source": [
    "lectures[4].click()"
   ]
  },
  {
   "cell_type": "code",
   "execution_count": 17,
   "metadata": {},
   "outputs": [],
   "source": [
    "video = browser.find_element_by_tag_name(\"video\")"
   ]
  },
  {
   "cell_type": "code",
   "execution_count": 18,
   "metadata": {},
   "outputs": [],
   "source": [
    "video_link = video.get_attribute(\"src\")"
   ]
  },
  {
   "cell_type": "code",
   "execution_count": 19,
   "metadata": {},
   "outputs": [
    {
     "data": {
      "text/plain": [
       "'https://vid21.pluralsight.com/clips/resolution/eb22e698-9517-400a-9bd9-a4457c6bd403/current/mp4/1280x720.mp4?9sjWX1cqg7I9MXuotKZ_B3FX-g5WSPi0zSdbLDSrurbTqakZvTIgXlCpEPAXH-0nDymyqlYRbBOXrS5CutzZ6L1s0M8TYz8vL6dt2VGW26uYMPAHssRbWdg2oOw7ajPLjOHRdeyk2FCFVSrDAMji9BCw7WBT-jCqqEFCUOeCzxe-Eo2UpMDTewCtFFUx'"
      ]
     },
     "execution_count": 19,
     "metadata": {},
     "output_type": "execute_result"
    }
   ],
   "source": [
    "video_link"
   ]
  },
  {
   "cell_type": "code",
   "execution_count": 20,
   "metadata": {},
   "outputs": [],
   "source": [
    "from urllib import request"
   ]
  },
  {
   "cell_type": "code",
   "execution_count": null,
   "metadata": {},
   "outputs": [],
   "source": [
    "request.urlretrieve(video_link, \"../video.mp4\")"
   ]
  },
  {
   "cell_type": "code",
   "execution_count": null,
   "metadata": {},
   "outputs": [],
   "source": []
  }
 ],
 "metadata": {
  "kernelspec": {
   "display_name": "Python 3",
   "language": "python",
   "name": "python3"
  },
  "language_info": {
   "codemirror_mode": {
    "name": "ipython",
    "version": 3
   },
   "file_extension": ".py",
   "mimetype": "text/x-python",
   "name": "python",
   "nbconvert_exporter": "python",
   "pygments_lexer": "ipython3",
   "version": "3.7.2"
  }
 },
 "nbformat": 4,
 "nbformat_minor": 2
}
