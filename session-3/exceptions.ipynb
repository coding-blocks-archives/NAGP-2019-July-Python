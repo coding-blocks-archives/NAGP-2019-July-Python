{
 "cells": [
  {
   "cell_type": "code",
   "execution_count": 10,
   "metadata": {},
   "outputs": [],
   "source": [
    "import os"
   ]
  },
  {
   "cell_type": "markdown",
   "metadata": {},
   "source": [
    "\n",
    "## KeenWarrior\n",
    "\n",
    "8198961614"
   ]
  },
  {
   "cell_type": "code",
   "execution_count": 16,
   "metadata": {},
   "outputs": [
    {
     "name": "stdout",
     "output_type": "stream",
     "text": [
      "upar\n",
      "division by zero\n",
      "bahar\n"
     ]
    }
   ],
   "source": [
    "try:\n",
    "#     open(\"hello.txt\").read()\n",
    "    print(\"upar\")\n",
    "    0/0\n",
    "    print(\"neeche\")\n",
    "except Exception as e:\n",
    "    print(e)\n",
    "except ZeroDivisionError:\n",
    "    print(\"Bhai math seekh le\")\n",
    "    \n",
    "print(\"bahar\")"
   ]
  },
  {
   "cell_type": "code",
   "execution_count": null,
   "metadata": {},
   "outputs": [],
   "source": []
  },
  {
   "cell_type": "code",
   "execution_count": null,
   "metadata": {},
   "outputs": [],
   "source": []
  }
 ],
 "metadata": {
  "kernelspec": {
   "display_name": "Python 3",
   "language": "python",
   "name": "python3"
  },
  "language_info": {
   "codemirror_mode": {
    "name": "ipython",
    "version": 3
   },
   "file_extension": ".py",
   "mimetype": "text/x-python",
   "name": "python",
   "nbconvert_exporter": "python",
   "pygments_lexer": "ipython3",
   "version": "3.7.2"
  }
 },
 "nbformat": 4,
 "nbformat_minor": 2
}
